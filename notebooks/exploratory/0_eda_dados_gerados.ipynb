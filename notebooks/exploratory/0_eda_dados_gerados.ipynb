{
 "cells": [
  {
   "cell_type": "markdown",
   "metadata": {},
   "source": [
    "# Análise exploratória dos dados gerados"
   ]
  },
  {
   "cell_type": "code",
   "execution_count": null,
   "metadata": {},
   "outputs": [],
   "source": [
    "import os\n",
    "\n",
    "import pandas as pd\n",
    "import matplotlib.pyplot as plt\n",
    "import seaborn as sns\n",
    "\n",
    "from sistema_antifraude.gerador_dados import Gerador\n",
    "from sistema_antifraude import config"
   ]
  },
  {
   "cell_type": "code",
   "execution_count": null,
   "metadata": {},
   "outputs": [],
   "source": [
    "dados_gerados = Gerador().gerar_dados()"
   ]
  },
  {
   "cell_type": "code",
   "execution_count": null,
   "metadata": {},
   "outputs": [],
   "source": [
    "df = pd.DataFrame(dados_gerados)\n",
    "df.head()"
   ]
  },
  {
   "cell_type": "code",
   "execution_count": null,
   "metadata": {},
   "outputs": [],
   "source": [
    "df.info()"
   ]
  },
  {
   "cell_type": "code",
   "execution_count": null,
   "metadata": {},
   "outputs": [],
   "source": [
    "df['timestamp'] = pd.to_datetime(df['timestamp'])"
   ]
  },
  {
   "cell_type": "code",
   "execution_count": null,
   "metadata": {},
   "outputs": [],
   "source": [
    "df.sort_values(by='timestamp', inplace = True)"
   ]
  },
  {
   "cell_type": "code",
   "execution_count": null,
   "metadata": {},
   "outputs": [],
   "source": [
    "df['is_fraude'].value_counts(normalize = True)"
   ]
  },
  {
   "cell_type": "code",
   "execution_count": null,
   "metadata": {},
   "outputs": [],
   "source": [
    "usuarios_por_dia = df.groupby(df['timestamp'].dt.date)['user_id'].count()\n",
    "ax = sns.barplot(data = usuarios_por_dia)\n",
    "ax.set_title('Quantidade de acessos por dia')\n",
    "ax.set_xlabel('Dias')\n",
    "ax.set_ylabel('Acessos')\n",
    "ax.set_xticklabels(ax.get_xticklabels(), rotation = 90)\n",
    "plt.show()"
   ]
  },
  {
   "cell_type": "code",
   "execution_count": null,
   "metadata": {},
   "outputs": [],
   "source": [
    "usuarios_ao_longo_do_dia = df[df['timestamp'].dt.date == df.loc[0]['timestamp'].date()]\n",
    "usuarios_ao_longo_do_dia = usuarios_ao_longo_do_dia.groupby(usuarios_ao_longo_do_dia['timestamp'].dt.hour)['user_id'].count()\n",
    "ax = sns.barplot(data = usuarios_ao_longo_do_dia)\n",
    "ax.set_title('Quantidade de acessos ao longo do dia')\n",
    "ax.set_xlabel('Hora')\n",
    "ax.set_ylabel('Acessos')\n",
    "plt.show()"
   ]
  },
  {
   "cell_type": "code",
   "execution_count": null,
   "metadata": {},
   "outputs": [],
   "source": [
    "qtd_dispositivos_por_usuario = df.groupby('user_id')['device_id'].nunique().value_counts()\n",
    "ax = sns.barplot(data = qtd_dispositivos_por_usuario)\n",
    "ax.set_title('Quantidade de dispositivos por usuário')\n",
    "ax.set_xlabel('Quantidade de dispositivos')\n",
    "ax.set_ylabel('Quantidade de usuários')\n",
    "plt.show()"
   ]
  },
  {
   "cell_type": "code",
   "execution_count": null,
   "metadata": {},
   "outputs": [],
   "source": [
    "df.to_csv(os.path.join(config.DATA_PATH, 'raw', 'dados_gerados.csv'), index = False)"
   ]
  }
 ],
 "metadata": {
  "kernelspec": {
   "display_name": "venv",
   "language": "python",
   "name": "python3"
  },
  "language_info": {
   "codemirror_mode": {
    "name": "ipython",
    "version": 3
   },
   "file_extension": ".py",
   "mimetype": "text/x-python",
   "name": "python",
   "nbconvert_exporter": "python",
   "pygments_lexer": "ipython3",
   "version": "3.11.7"
  }
 },
 "nbformat": 4,
 "nbformat_minor": 2
}
