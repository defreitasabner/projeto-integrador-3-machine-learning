{
 "cells": [
  {
   "cell_type": "markdown",
   "metadata": {},
   "source": [
    "# Processamento dos dados gerados"
   ]
  },
  {
   "cell_type": "code",
   "execution_count": null,
   "metadata": {},
   "outputs": [],
   "source": [
    "import os\n",
    "\n",
    "import pandas as pd\n",
    "import matplotlib.pyplot as plt\n",
    "import seaborn as sns\n",
    "\n",
    "from sistema_antifraude import config\n",
    "from sistema_antifraude.utilidades.geolocalizacao import obter_geolocalizacao_do_ip\n",
    "from sistema_antifraude.utilidades.geolocalizacao import obter_paises_estados_cidades_das_latlongs\n",
    "from sistema_antifraude.utilidades.geolocalizacao import distancia_entre_latlongs_km"
   ]
  },
  {
   "cell_type": "code",
   "execution_count": null,
   "metadata": {},
   "outputs": [],
   "source": [
    "df = pd.read_csv(os.path.join(config.DATA_PATH, 'raw', 'dados_gerados.csv'))"
   ]
  },
  {
   "cell_type": "code",
   "execution_count": null,
   "metadata": {},
   "outputs": [],
   "source": [
    "df['timestamp'] = pd.to_datetime(df['timestamp'])"
   ]
  },
  {
   "cell_type": "code",
   "execution_count": null,
   "metadata": {},
   "outputs": [],
   "source": [
    "df.head()"
   ]
  },
  {
   "cell_type": "markdown",
   "metadata": {},
   "source": [
    "### Diferença de tempo entre acessos"
   ]
  },
  {
   "cell_type": "code",
   "execution_count": null,
   "metadata": {},
   "outputs": [],
   "source": [
    "df['distancia_segundos_entre_acessos'] = 0\n",
    "for user_id in df['user_id'].unique():\n",
    "    registros_usuario = df[df['user_id'] == user_id].copy()\n",
    "    registros_usuario.sort_values(by='timestamp', inplace = True)\n",
    "    df.loc[\n",
    "        df['user_id'] == user_id, 'distancia_segundos_entre_acessos'\n",
    "    ] = (registros_usuario['timestamp'].diff().dt.total_seconds()).fillna(0).map(int)\n",
    "df.head()"
   ]
  },
  {
   "cell_type": "markdown",
   "metadata": {},
   "source": [
    "### Horário suspeito"
   ]
  },
  {
   "cell_type": "code",
   "execution_count": null,
   "metadata": {},
   "outputs": [],
   "source": [
    "df['horario_suspeito'] = df['timestamp'].map(lambda timestamp: 1 if timestamp.hour < 6 else 0)\n",
    "df['horario_suspeito'].value_counts(normalize = True)"
   ]
  },
  {
   "cell_type": "markdown",
   "metadata": {},
   "source": [
    "### Dispositivo utilizado anteriormente pelo próprio usuário"
   ]
  },
  {
   "cell_type": "code",
   "execution_count": null,
   "metadata": {},
   "outputs": [],
   "source": [
    "df['is_dispositivo_anterior_usuario'] = 0\n",
    "for user_id in df['user_id'].unique():\n",
    "    todos_acessos = df[df['user_id'] == user_id].copy()\n",
    "    todos_acessos.sort_values(by='timestamp', inplace = True)\n",
    "    for idx, acesso_atual in todos_acessos.iterrows():\n",
    "        dispositivos_anteriores = todos_acessos[todos_acessos['timestamp'] < acesso_atual['timestamp']]['device_id'].values\n",
    "        if acesso_atual['device_id'] in dispositivos_anteriores:\n",
    "            df.loc[idx, 'is_dispositivo_anterior_usuario'] = 1\n",
    "df['is_dispositivo_anterior_usuario'].value_counts(normalize = True)"
   ]
  },
  {
   "cell_type": "markdown",
   "metadata": {},
   "source": [
    "### País e cidade através do IP"
   ]
  },
  {
   "cell_type": "code",
   "execution_count": null,
   "metadata": {},
   "outputs": [],
   "source": [
    "df['cidade_ip'] = df['ipv4'].map(lambda ip: obter_geolocalizacao_do_ip(ip)['cidade'])\n",
    "df['pais_ip'] = df['ipv4'].map(lambda ip: obter_geolocalizacao_do_ip(ip)['pais'])\n"
   ]
  },
  {
   "cell_type": "code",
   "execution_count": null,
   "metadata": {},
   "outputs": [],
   "source": [
    "df['pais_ip'].value_counts()"
   ]
  },
  {
   "cell_type": "markdown",
   "metadata": {},
   "source": [
    "### País e cidade através da lat-long"
   ]
  },
  {
   "cell_type": "code",
   "execution_count": null,
   "metadata": {},
   "outputs": [],
   "source": [
    "geolocalizacoes = list(\n",
    "    zip(\n",
    "        df['latitude'].copy().astype(float).values, \n",
    "        df['longitude'].copy().astype(float).values\n",
    "    )\n",
    ")\n",
    "df['pais_latlong'], df['estado_latlong'], df['cidade_latlong'] = \\\n",
    "    obter_paises_estados_cidades_das_latlongs(geolocalizacoes)\n",
    "print(df['pais_latlong'].value_counts(normalize = True))"
   ]
  },
  {
   "cell_type": "code",
   "execution_count": null,
   "metadata": {},
   "outputs": [],
   "source": [
    "df['pais_ip_latlong_concordancia'] = df['pais_ip'] == df['pais_latlong']\n",
    "df['pais_ip_latlong_concordancia'] = df['pais_ip_latlong_concordancia'].map(lambda x: 1 if x else 0)\n",
    "df['pais_ip_latlong_concordancia'].value_counts(normalize = True)"
   ]
  },
  {
   "cell_type": "markdown",
   "metadata": {},
   "source": [
    "### Distância entre as localizações anteriores e atual em quilômetros"
   ]
  },
  {
   "cell_type": "code",
   "execution_count": null,
   "metadata": {},
   "outputs": [],
   "source": [
    "df['distancia_latlong_anterior'] = 0.0\n",
    "for user_id in df['user_id'].unique():\n",
    "    registros_usuario = df[df['user_id'] == user_id].copy()\n",
    "    registros_usuario.sort_values(by='timestamp', inplace = True)\n",
    "    for idx, acesso_atual in registros_usuario.iterrows():\n",
    "        latlong_anteriores = registros_usuario[registros_usuario['timestamp'] < acesso_atual['timestamp']][['latitude', 'longitude']].values\n",
    "        if len(latlong_anteriores) > 0:\n",
    "            latlong_anterior = latlong_anteriores[-1]\n",
    "            distancia = distancia_entre_latlongs_km(\n",
    "                (acesso_atual['latitude'], acesso_atual['longitude']), \n",
    "                (latlong_anterior[0], latlong_anterior[1])\n",
    "            )\n",
    "            df.loc[idx, 'distancia_latlong_anterior'] = round(distancia, 1)"
   ]
  },
  {
   "cell_type": "code",
   "execution_count": null,
   "metadata": {},
   "outputs": [],
   "source": [
    "df.to_csv(os.path.join(config.DATA_PATH, 'processed', 'dados_processados.csv'), index = False)"
   ]
  }
 ],
 "metadata": {
  "kernelspec": {
   "display_name": "venv",
   "language": "python",
   "name": "python3"
  },
  "language_info": {
   "codemirror_mode": {
    "name": "ipython",
    "version": 3
   },
   "file_extension": ".py",
   "mimetype": "text/x-python",
   "name": "python",
   "nbconvert_exporter": "python",
   "pygments_lexer": "ipython3",
   "version": "3.11.7"
  }
 },
 "nbformat": 4,
 "nbformat_minor": 2
}
