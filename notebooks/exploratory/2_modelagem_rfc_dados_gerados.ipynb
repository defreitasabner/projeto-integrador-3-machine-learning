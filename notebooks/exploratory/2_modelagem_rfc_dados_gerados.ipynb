{
 "cells": [
  {
   "cell_type": "markdown",
   "metadata": {},
   "source": [
    "## Modelagem exploratória"
   ]
  },
  {
   "cell_type": "code",
   "execution_count": null,
   "metadata": {},
   "outputs": [],
   "source": [
    "import os\n",
    "\n",
    "import pandas as pd\n",
    "import matplotlib.pyplot as plt\n",
    "import seaborn as sns\n",
    "import sklearn\n",
    "from sklearn.model_selection import train_test_split\n",
    "from imblearn.over_sampling import SMOTE\n",
    "from sklearn.dummy import DummyClassifier\n",
    "from sklearn.tree import DecisionTreeClassifier\n",
    "from sklearn.linear_model import LogisticRegression\n",
    "from sklearn.preprocessing import StandardScaler\n",
    "from sklearn.metrics import confusion_matrix\n",
    "\n",
    "from sistema_antifraude import config\n",
    "from sistema_antifraude.modelagem.metricas import calcular_metricas\n",
    "from sistema_antifraude.modelagem.serializacao import salvar_tudo"
   ]
  },
  {
   "cell_type": "code",
   "execution_count": null,
   "metadata": {},
   "outputs": [],
   "source": [
    "df = pd.read_csv(os.path.join(config.DATA_PATH, \"processed\", \"dados_processados.csv\"))"
   ]
  },
  {
   "cell_type": "code",
   "execution_count": null,
   "metadata": {},
   "outputs": [],
   "source": [
    "features = [\n",
    "    'distancia_segundos_entre_acessos',\n",
    "    'is_dispositivo_anterior_usuario',\n",
    "    'pais_ip_latlong_concordancia',\n",
    "    'horario_suspeito',\n",
    "    'distancia_latlong_anterior'\n",
    "]\n",
    "target = 'is_fraude'\n",
    "X = df[features].copy()\n",
    "y = df[target].copy()"
   ]
  },
  {
   "cell_type": "code",
   "execution_count": null,
   "metadata": {},
   "outputs": [],
   "source": [
    "X.head()"
   ]
  },
  {
   "cell_type": "code",
   "execution_count": null,
   "metadata": {},
   "outputs": [],
   "source": [
    "X_train, X_test, y_train, y_test = train_test_split(\n",
    "    X, \n",
    "    y, \n",
    "    test_size = 0.3, \n",
    "    shuffle = True,\n",
    "    stratify = y,\n",
    "    random_state = 42\n",
    ")"
   ]
  },
  {
   "cell_type": "code",
   "execution_count": null,
   "metadata": {},
   "outputs": [],
   "source": [
    "smote = SMOTE(random_state = 42)\n",
    "X_train_smote, y_train_smote = smote.fit_resample(X_train, y_train)"
   ]
  },
  {
   "cell_type": "code",
   "execution_count": null,
   "metadata": {},
   "outputs": [],
   "source": [
    "y_train_smote.value_counts(normalize = True)"
   ]
  },
  {
   "cell_type": "markdown",
   "metadata": {},
   "source": [
    "## Árvore de Decisão"
   ]
  },
  {
   "cell_type": "code",
   "execution_count": null,
   "metadata": {},
   "outputs": [],
   "source": [
    "dtc_parametros = {\n",
    "    'max_depth': 3,\n",
    "    'min_samples_split': 2,\n",
    "    'min_samples_leaf': 1,\n",
    "    'random_state': 42\n",
    "}\n",
    "\n",
    "dtc = DecisionTreeClassifier(**dtc_parametros)\n",
    "dtc.fit(X_train_smote, y_train_smote)\n",
    "dtc_y_pred = dtc.predict(X_test)\n",
    "\n",
    "dtc_metricas = calcular_metricas(y_test, dtc_y_pred)\n",
    "dtc_metricas"
   ]
  },
  {
   "cell_type": "code",
   "execution_count": null,
   "metadata": {},
   "outputs": [],
   "source": [
    "matriz_dtc = confusion_matrix(y_test, dtc_y_pred, normalize = 'pred')\n",
    "sns.heatmap(\n",
    "    matriz_dtc, \n",
    "    annot = True, \n",
    "    fmt = '.2%', \n",
    "    cmap = 'YlOrBr',\n",
    "    linewidths = 1,\n",
    "    cbar = False, \n",
    "    xticklabels = ['Não Fraude', 'Fraude'], \n",
    "    yticklabels = ['Não Fraude', 'Fraude'],\n",
    "    vmin = 0,\n",
    "    vmax = 1,\n",
    ")\n",
    "plt.xlabel('Previsto')\n",
    "plt.ylabel('Real')\n",
    "plt.title('Matriz de confusão - Árvore de Decisão')\n",
    "plt.savefig(\n",
    "    os.path.join(config.PLOTS_PATH, \"matriz_confusao_arvore_decisao.png\"), \n",
    "    bbox_inches = 'tight',\n",
    "    dpi = 300\n",
    ")\n",
    "plt.show()"
   ]
  },
  {
   "cell_type": "code",
   "execution_count": null,
   "metadata": {},
   "outputs": [],
   "source": [
    "from sklearn import tree\n",
    "plt.figure(figsize = (20, 10))\n",
    "tree.plot_tree(dtc, \n",
    "    filled = True,\n",
    "    rounded = True,\n",
    "    impurity = False,\n",
    "    proportion = True,\n",
    "    fontsize = 14, \n",
    "    feature_names = [\n",
    "        'Variação de tempo entre acessos (s)',\n",
    "        'Dispositivo utilizado anteriormente',\n",
    "        'País IP e Latitude/Longitude coincidem',\n",
    "        'Horário suspeito',\n",
    "        'Distância geográfica entre acessos (km)'\n",
    "    ], \n",
    "    class_names= ['Não Fraude', 'Fraude']\n",
    ")\n",
    "plt.savefig(os.path.join(config.PLOTS_PATH, 'arvore_de_decisao.png'), dpi = 300)\n",
    "plt.show()"
   ]
  },
  {
   "cell_type": "markdown",
   "metadata": {},
   "source": [
    "## Regressão Logística"
   ]
  },
  {
   "cell_type": "code",
   "execution_count": null,
   "metadata": {},
   "outputs": [],
   "source": [
    "lr = LogisticRegression(max_iter = 1000, random_state = 42)\n",
    "scaler = StandardScaler()\n",
    "X_train_smote_scaled = scaler.fit_transform(X_train_smote)\n",
    "lr.fit(X_train_smote_scaled, y_train_smote)\n",
    "\n",
    "X_test_scaled = scaler.transform(X_test)\n",
    "lr_y_pred = lr.predict(X_test_scaled)\n",
    "lr_metricas = calcular_metricas(y_test, lr_y_pred)\n",
    "lr_metricas"
   ]
  },
  {
   "cell_type": "code",
   "execution_count": null,
   "metadata": {},
   "outputs": [],
   "source": [
    "matriz_lr = confusion_matrix(y_test, lr_y_pred, normalize = 'pred')\n",
    "sns.heatmap(\n",
    "    matriz_lr, \n",
    "    annot = True, \n",
    "    fmt = '.2%', \n",
    "    cmap = 'YlOrBr',\n",
    "    linewidths = 1, \n",
    "    cbar = False, \n",
    "    xticklabels = ['Não Fraude', 'Fraude'], \n",
    "    yticklabels = ['Não Fraude', 'Fraude']\n",
    ")\n",
    "plt.xlabel('Previsto')\n",
    "plt.ylabel('Real')\n",
    "plt.title('Matriz de confusão - Regressão Logística')\n",
    "plt.savefig(\n",
    "    os.path.join(config.PLOTS_PATH, \"matriz_confusao_regressao_logistica.png\"), \n",
    "    bbox_inches = 'tight',\n",
    "    dpi = 300\n",
    ")\n",
    "plt.show()"
   ]
  },
  {
   "cell_type": "markdown",
   "metadata": {},
   "source": [
    "## Dummy Classifier"
   ]
  },
  {
   "cell_type": "code",
   "execution_count": null,
   "metadata": {},
   "outputs": [],
   "source": [
    "dc = DummyClassifier()\n",
    "dc.fit(X_train_smote, y_train_smote)\n",
    "\n",
    "y_predito_dummy = dc.predict(X_test)\n",
    "dc_metricas = calcular_metricas(y_test, y_predito_dummy)\n",
    "dc_metricas"
   ]
  },
  {
   "cell_type": "code",
   "execution_count": null,
   "metadata": {},
   "outputs": [],
   "source": [
    "matriz_dummy = confusion_matrix(y_test, y_predito_dummy, normalize = 'pred')\n",
    "sns.heatmap(\n",
    "    matriz_dummy, \n",
    "    annot = True, \n",
    "    fmt = '.2%', \n",
    "    cmap = 'YlOrBr',\n",
    "    linewidths = 1,\n",
    "    cbar = False, \n",
    "    xticklabels = ['Não Fraude', 'Fraude'], \n",
    "    yticklabels = ['Não Fraude', 'Fraude']\n",
    ")\n",
    "plt.xlabel('Previsto')\n",
    "plt.ylabel('Real')\n",
    "plt.title('Matriz de confusão')\n",
    "plt.show()"
   ]
  },
  {
   "cell_type": "code",
   "execution_count": null,
   "metadata": {},
   "outputs": [],
   "source": [
    "fig, axes = plt.subplots(1, 3, figsize=(20, 6), dpi = 300)\n",
    "\n",
    "TICK_LABELS = ['Não Fraude', 'Fraude']\n",
    "PADDING_TITLE = 24\n",
    "PADDING_LABEL = 32\n",
    "FONTSIZE_TICKS = 14\n",
    "FONTSIZE_LABEL = 20\n",
    "\n",
    "sns.heatmap(\n",
    "    matriz_dummy, \n",
    "    annot = True, \n",
    "    fmt = '.2%',\n",
    "    cmap = 'YlOrBr',\n",
    "    annot_kws = { 'fontsize': 16 },\n",
    "    linewidth = 1,\n",
    "    cbar = False,\n",
    "    ax = axes[0]\n",
    ")\n",
    "axes[0].set_title('Dummy', pad = PADDING_TITLE, fontsize = 20, fontweight = 'bold')\n",
    "axes[0].set_ylabel('Real', labelpad = PADDING_LABEL, fontsize = FONTSIZE_LABEL)\n",
    "axes[0].set_yticklabels(TICK_LABELS, fontsize = FONTSIZE_TICKS, rotation = 0)\n",
    "axes[0].set_xticklabels(TICK_LABELS, fontsize = FONTSIZE_TICKS)\n",
    "\n",
    "sns.heatmap(\n",
    "    matriz_dtc,\n",
    "    annot = True,\n",
    "    fmt = '.2%',\n",
    "    cmap = 'YlOrBr',\n",
    "    annot_kws = { 'fontsize': 16 },\n",
    "    linewidth = 1,\n",
    "    yticklabels = False,\n",
    "    cbar = False,\n",
    "    ax=axes[1]\n",
    ")\n",
    "axes[1].set_title('Árvore de Decisão', pad = PADDING_TITLE, fontsize = 20, fontweight = 'bold')\n",
    "axes[1].set_xlabel('Previsto', labelpad = PADDING_LABEL, fontsize = FONTSIZE_LABEL)\n",
    "axes[1].set_xticklabels(TICK_LABELS, fontsize = FONTSIZE_TICKS)\n",
    "\n",
    "sns.heatmap(\n",
    "    matriz_lr, \n",
    "    annot = True,\n",
    "    fmt = '.2%',\n",
    "    cmap = 'YlOrBr',\n",
    "    annot_kws = { 'fontsize': 16 },\n",
    "    linewidth = 1,\n",
    "    yticklabels = False,\n",
    "    cbar = True,\n",
    "    ax=axes[2]\n",
    ")\n",
    "axes[2].set_title('Regressão Logística', pad = PADDING_TITLE, fontsize = 20, fontweight = 'bold')\n",
    "axes[2].set_xticklabels(TICK_LABELS, fontsize = FONTSIZE_TICKS)\n",
    "\n",
    "plt.tight_layout()\n",
    "plt.subplots_adjust(wspace = 0.15)\n",
    "plt.savefig(os.path.join(config.PLOTS_PATH, 'matrizes.png'), bbox_inches = 'tight', dpi = 300)\n",
    "plt.show()"
   ]
  }
 ],
 "metadata": {
  "kernelspec": {
   "display_name": "venv",
   "language": "python",
   "name": "python3"
  },
  "language_info": {
   "codemirror_mode": {
    "name": "ipython",
    "version": 3
   },
   "file_extension": ".py",
   "mimetype": "text/x-python",
   "name": "python",
   "nbconvert_exporter": "python",
   "pygments_lexer": "ipython3",
   "version": "3.11.7"
  }
 },
 "nbformat": 4,
 "nbformat_minor": 2
}
